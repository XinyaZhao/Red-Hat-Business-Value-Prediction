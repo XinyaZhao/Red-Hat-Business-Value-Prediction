{
 "cells": [
  {
   "cell_type": "code",
   "execution_count": 2,
   "metadata": {
    "collapsed": true
   },
   "outputs": [],
   "source": [
    "import pandas as pd\n",
    "import numpy as np\n",
    "import matplotlib.pylab as plt\n",
    "%matplotlib inline\n",
    "import matplotlib.pylab as pylab\n",
    "pylab.rcParams['figure.figsize'] = 14, 10"
   ]
  },
  {
   "cell_type": "code",
   "execution_count": null,
   "metadata": {
    "collapsed": false
   },
   "outputs": [],
   "source": [
    "act = pd.read_csv('act_sample.csv')\n",
    "people = pd.read_csv('people_sample.csv')"
   ]
  },
  {
   "cell_type": "code",
   "execution_count": null,
   "metadata": {
    "collapsed": false
   },
   "outputs": [],
   "source": [
    "# no dummiazation variables:\n",
    "print(len(act.char_10.unique()))\n",
    "print(len(people.group_1.unique()))"
   ]
  },
  {
   "cell_type": "code",
   "execution_count": 69,
   "metadata": {
    "collapsed": false
   },
   "outputs": [],
   "source": [
    "#act set\n",
    "# Numerize the category features\n",
    "categories = {}\n",
    "for c in act.columns[3:-1]:\n",
    "    categories[c] = [np.nan]\n",
    "    categories[c] = list(set(categories[c] + list(act[c].unique())))\n",
    "    \n",
    "for col in list(categories.keys()):\n",
    "    for i,cat in enumerate(categories[col]):\n",
    "        act = act.replace({col:cat},{col:i})\n",
    "        #act[col+'_mv'] = pd.Series(act[col] == 0, dtype=int)"
   ]
  },
  {
   "cell_type": "code",
   "execution_count": 75,
   "metadata": {
    "collapsed": false
   },
   "outputs": [
    {
     "name": "stdout",
     "output_type": "stream",
     "text": [
      "[8, 44, 30, 11, 8, 7, 6, 9, 19, 20]\n"
     ]
    },
    {
     "name": "stderr",
     "output_type": "stream",
     "text": [
      "//anaconda/lib/python3.6/site-packages/matplotlib/axes/_axes.py:545: UserWarning: No labelled objects found. Use label='...' kwarg on individual plots.\n",
      "  warnings.warn(\"No labelled objects found. \"\n"
     ]
    },
    {
     "data": {
      "image/png": "[encoded data removed]",
      "text/plain": [
       "<matplotlib.figure.Figure at 0x10e95e5c0>"
      ]
     },
     "metadata": {},
     "output_type": "display_data"
    }
   ],
   "source": [
    "x = np.arange(5,5+2*len(categories),2)\n",
    "y = []\n",
    "for v in categories.values():\n",
    "    y.append(len(v))\n",
    "print(y)\n",
    "plt.bar(x,y,width = 1.4,tick_label = categories.keys())\n",
    "plt.xlabel('Features')\n",
    "plt.ylabel('Number of classes')\n",
    "plt.title('Categorical Features in Act File')\n",
    "plt.legend()"
   ]
  },
  {
   "cell_type": "code",
   "execution_count": 22,
   "metadata": {
    "collapsed": false
   },
   "outputs": [],
   "source": [
    "# transform date\n",
    "act['date'] = pd.to_datetime(act['date'])"
   ]
  },
  {
   "cell_type": "code",
   "execution_count": 23,
   "metadata": {
    "collapsed": false
   },
   "outputs": [],
   "source": [
    "act['year'] = act.date.dt.year\n",
    "act['month'] = act.date.dt.month\n",
    "act['day'] = act.date.dt.day\n",
    "act = act.drop('date',1)"
   ]
  },
  {
   "cell_type": "code",
   "execution_count": 76,
   "metadata": {
    "collapsed": false
   },
   "outputs": [],
   "source": [
    "#People set\n",
    "# Bool to int:\n",
    "binary_cols = [c for c in people.columns if people[c].dtype == np.bool]\n",
    "people.loc[:,binary_cols] = people.loc[:,binary_cols].astype(int)"
   ]
  },
  {
   "cell_type": "code",
   "execution_count": 25,
   "metadata": {
    "collapsed": false
   },
   "outputs": [
    {
     "data": {
      "text/plain": [
       "False"
      ]
     },
     "execution_count": 25,
     "metadata": {},
     "output_type": "execute_result"
    }
   ],
   "source": [
    "#check if there is any missing values\n",
    "print(people.isnull().values.any()) # False"
   ]
  },
  {
   "cell_type": "code",
   "execution_count": 77,
   "metadata": {
    "collapsed": false,
    "scrolled": true
   },
   "outputs": [],
   "source": [
    "#Numberize categorical fields:\n",
    "categories = {}\n",
    "categorical_cols = [c for c in people.columns if people[c].dtype == np.object and c != 'people_id' and c != 'date' ]\n",
    "\n",
    "for c in categorical_cols:\n",
    "    categories[c] = [np.nan]\n",
    "    categories[c] = list(set(categories[c] + list(people[c].unique())))\n",
    "\n",
    "for col in list(categories.keys()):\n",
    "    for i,cat in enumerate(categories[col]):\n",
    "        people = people.replace({col:cat},{col:i})"
   ]
  },
  {
   "cell_type": "code",
   "execution_count": 92,
   "metadata": {
    "collapsed": false
   },
   "outputs": [
    {
     "data": {
      "text/plain": [
       "(9, 28, 41)"
      ]
     },
     "execution_count": 92,
     "metadata": {},
     "output_type": "execute_result"
    }
   ],
   "source": [
    "lens = [len(categories), len(binary_cols),len(people.columns)]\n",
    "print(lens) #(9, 28, 41)"
   ]
  },
  {
   "cell_type": "code",
   "execution_count": 82,
   "metadata": {
    "collapsed": false
   },
   "outputs": [
    {
     "name": "stdout",
     "output_type": "stream",
     "text": [
      "[3, 4, 43, 26, 10, 8, 26, 9, 10]\n"
     ]
    },
    {
     "name": "stderr",
     "output_type": "stream",
     "text": [
      "//anaconda/lib/python3.6/site-packages/matplotlib/axes/_axes.py:545: UserWarning: No labelled objects found. Use label='...' kwarg on individual plots.\n",
      "  warnings.warn(\"No labelled objects found. \"\n"
     ]
    },
    {
     "data": {
      "image/png": "[encoded data removed]",
      "text/plain": [
       "<matplotlib.figure.Figure at 0x10fdef390>"
      ]
     },
     "metadata": {},
     "output_type": "display_data"
    }
   ],
   "source": [
    "x = np.arange(5,5+2*len(categories),2)\n",
    "y = []\n",
    "for v in categories.values():\n",
    "    y.append(len(v))\n",
    "print(y)\n",
    "plt.bar(x,y,width = 1.4,tick_label = categories.keys())\n",
    "plt.xlabel('Features')\n",
    "plt.ylabel('Number of classes')\n",
    "plt.title('Categorical Features in People File')\n",
    "plt.legend()"
   ]
  },
  {
   "cell_type": "code",
   "execution_count": 27,
   "metadata": {
    "collapsed": false
   },
   "outputs": [],
   "source": [
    "people['date'] = pd.to_datetime(people['date'],infer_datetime_format=True)"
   ]
  },
  {
   "cell_type": "code",
   "execution_count": 28,
   "metadata": {
    "collapsed": false
   },
   "outputs": [],
   "source": [
    "people = people.drop_duplicates()"
   ]
  },
  {
   "cell_type": "code",
   "execution_count": 29,
   "metadata": {
    "collapsed": false
   },
   "outputs": [],
   "source": [
    "people['year'] = people.date.dt.year\n",
    "people['month'] = people.date.dt.month\n",
    "people['day'] = people.date.dt.day\n",
    "people = people.drop('date',1)"
   ]
  },
  {
   "cell_type": "code",
   "execution_count": 30,
   "metadata": {
    "collapsed": true
   },
   "outputs": [],
   "source": [
    "#Write into new CSV\n",
    "people.to_csv('processed_people.csv',index=False)\n",
    "act.to_csv('processed_act.csv',index=False)"
   ]
  },
  {
   "cell_type": "code",
   "execution_count": 31,
   "metadata": {
    "collapsed": true
   },
   "outputs": [],
   "source": [
    "# Rename columns for merge\n",
    "people.columns = ['people_'+ str(c) for c in people.columns]\n",
    "act.columns = ['act_' + str(c) for c in act.columns]"
   ]
  },
  {
   "cell_type": "code",
   "execution_count": 32,
   "metadata": {
    "collapsed": false
   },
   "outputs": [],
   "source": [
    "#Merge two datasets\n",
    "data_cb = pd.merge(act,people,left_on='act_people_id', right_on='people_people_id')"
   ]
  },
  {
   "cell_type": "code",
   "execution_count": 33,
   "metadata": {
    "collapsed": false
   },
   "outputs": [],
   "source": [
    "#Drop useless columns\n",
    "data_cb = data_cb.drop(['act_people_id','act_activity_id','people_people_id'],1)"
   ]
  },
  {
   "cell_type": "code",
   "execution_count": 34,
   "metadata": {
    "collapsed": true
   },
   "outputs": [],
   "source": [
    "data_cb.to_csv('merge_sample.csv',index=False)"
   ]
  },
  {
   "cell_type": "code",
   "execution_count": null,
   "metadata": {
    "collapsed": true
   },
   "outputs": [],
   "source": []
  }
 ],
 "metadata": {
  "kernelspec": {
   "display_name": "Python 3",
   "language": "python",
   "name": "python3"
  },
  "language_info": {
   "codemirror_mode": {
    "name": "ipython",
    "version": 3
   },
   "file_extension": ".py",
   "mimetype": "text/x-python",
   "name": "python",
   "nbconvert_exporter": "python",
   "pygments_lexer": "ipython3",
   "version": "3.6.0"
  }
 },
 "nbformat": 4,
 "nbformat_minor": 2
}
