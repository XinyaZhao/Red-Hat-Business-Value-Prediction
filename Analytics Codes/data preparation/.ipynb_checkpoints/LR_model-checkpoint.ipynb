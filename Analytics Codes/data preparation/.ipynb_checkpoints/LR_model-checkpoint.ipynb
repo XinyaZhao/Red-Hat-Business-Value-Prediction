{
 "cells": [
  {
   "cell_type": "code",
   "execution_count": 36,
   "metadata": {
    "collapsed": false
   },
   "outputs": [],
   "source": [
    "#Import Pacakges\n",
    "import pandas as pd\n",
    "from sklearn import metrics\n",
    "from sklearn.tree import DecisionTreeClassifier\n",
    "from sklearn.linear_model import LogisticRegression\n",
    "from sklearn.naive_bayes import BernoulliNB\n",
    "from sklearn.model_selection import train_test_split\n",
    "from sklearn.model_selection import cross_val_score\n",
    "from sklearn.model_selection import GridSearchCV\n",
    "from sklearn.preprocessing import PolynomialFeatures\n",
    "from sklearn.cross_validation import KFold\n",
    "from sklearn.pipeline import Pipeline\n",
    "from sklearn.preprocessing import StandardScaler\n",
    "from sklearn.feature_selection import SelectFromModel\n",
    "\n",
    "from math import ceil\n",
    "import numpy as np\n",
    "#from dstools import data_tools\n",
    "\n",
    "import matplotlib.pylab as plt\n",
    "%matplotlib inline\n",
    "import matplotlib.pylab as pylab\n",
    "pylab.rcParams['figure.figsize'] = 10, 8"
   ]
  },
  {
   "cell_type": "code",
   "execution_count": 6,
   "metadata": {
    "collapsed": false
   },
   "outputs": [
    {
     "data": {
      "text/html": [
       "<div>\n",
       "<table border=\"1\" class=\"dataframe\">\n",
       "  <thead>\n",
       "    <tr style=\"text-align: right;\">\n",
       "      <th></th>\n",
       "      <th>act_activity_category</th>\n",
       "      <th>act_char_1</th>\n",
       "      <th>act_char_2</th>\n",
       "      <th>act_char_3</th>\n",
       "      <th>act_char_4</th>\n",
       "      <th>act_char_5</th>\n",
       "      <th>act_char_6</th>\n",
       "      <th>act_char_7</th>\n",
       "      <th>act_char_8</th>\n",
       "      <th>act_char_9</th>\n",
       "      <th>...</th>\n",
       "      <th>people_char_32</th>\n",
       "      <th>people_char_33</th>\n",
       "      <th>people_char_34</th>\n",
       "      <th>people_char_35</th>\n",
       "      <th>people_char_36</th>\n",
       "      <th>people_char_37</th>\n",
       "      <th>people_char_38</th>\n",
       "      <th>people_year</th>\n",
       "      <th>people_month</th>\n",
       "      <th>people_day</th>\n",
       "    </tr>\n",
       "  </thead>\n",
       "  <tbody>\n",
       "    <tr>\n",
       "      <th>0</th>\n",
       "      <td>4</td>\n",
       "      <td>0</td>\n",
       "      <td>0</td>\n",
       "      <td>0</td>\n",
       "      <td>0</td>\n",
       "      <td>0</td>\n",
       "      <td>0</td>\n",
       "      <td>0</td>\n",
       "      <td>0</td>\n",
       "      <td>0</td>\n",
       "      <td>...</td>\n",
       "      <td>0</td>\n",
       "      <td>0</td>\n",
       "      <td>0</td>\n",
       "      <td>0</td>\n",
       "      <td>0</td>\n",
       "      <td>0</td>\n",
       "      <td>84</td>\n",
       "      <td>2023</td>\n",
       "      <td>2</td>\n",
       "      <td>2</td>\n",
       "    </tr>\n",
       "    <tr>\n",
       "      <th>1</th>\n",
       "      <td>3</td>\n",
       "      <td>0</td>\n",
       "      <td>0</td>\n",
       "      <td>0</td>\n",
       "      <td>0</td>\n",
       "      <td>0</td>\n",
       "      <td>0</td>\n",
       "      <td>0</td>\n",
       "      <td>0</td>\n",
       "      <td>0</td>\n",
       "      <td>...</td>\n",
       "      <td>1</td>\n",
       "      <td>0</td>\n",
       "      <td>0</td>\n",
       "      <td>1</td>\n",
       "      <td>0</td>\n",
       "      <td>0</td>\n",
       "      <td>34</td>\n",
       "      <td>2022</td>\n",
       "      <td>10</td>\n",
       "      <td>14</td>\n",
       "    </tr>\n",
       "    <tr>\n",
       "      <th>2</th>\n",
       "      <td>1</td>\n",
       "      <td>0</td>\n",
       "      <td>0</td>\n",
       "      <td>0</td>\n",
       "      <td>0</td>\n",
       "      <td>0</td>\n",
       "      <td>0</td>\n",
       "      <td>0</td>\n",
       "      <td>0</td>\n",
       "      <td>0</td>\n",
       "      <td>...</td>\n",
       "      <td>0</td>\n",
       "      <td>0</td>\n",
       "      <td>0</td>\n",
       "      <td>0</td>\n",
       "      <td>0</td>\n",
       "      <td>0</td>\n",
       "      <td>0</td>\n",
       "      <td>2022</td>\n",
       "      <td>10</td>\n",
       "      <td>16</td>\n",
       "    </tr>\n",
       "    <tr>\n",
       "      <th>3</th>\n",
       "      <td>1</td>\n",
       "      <td>0</td>\n",
       "      <td>0</td>\n",
       "      <td>0</td>\n",
       "      <td>0</td>\n",
       "      <td>0</td>\n",
       "      <td>0</td>\n",
       "      <td>0</td>\n",
       "      <td>0</td>\n",
       "      <td>0</td>\n",
       "      <td>...</td>\n",
       "      <td>0</td>\n",
       "      <td>0</td>\n",
       "      <td>0</td>\n",
       "      <td>0</td>\n",
       "      <td>0</td>\n",
       "      <td>0</td>\n",
       "      <td>0</td>\n",
       "      <td>2022</td>\n",
       "      <td>10</td>\n",
       "      <td>16</td>\n",
       "    </tr>\n",
       "    <tr>\n",
       "      <th>4</th>\n",
       "      <td>1</td>\n",
       "      <td>0</td>\n",
       "      <td>0</td>\n",
       "      <td>0</td>\n",
       "      <td>0</td>\n",
       "      <td>0</td>\n",
       "      <td>0</td>\n",
       "      <td>0</td>\n",
       "      <td>0</td>\n",
       "      <td>0</td>\n",
       "      <td>...</td>\n",
       "      <td>0</td>\n",
       "      <td>0</td>\n",
       "      <td>0</td>\n",
       "      <td>0</td>\n",
       "      <td>0</td>\n",
       "      <td>0</td>\n",
       "      <td>0</td>\n",
       "      <td>2022</td>\n",
       "      <td>10</td>\n",
       "      <td>16</td>\n",
       "    </tr>\n",
       "  </tbody>\n",
       "</table>\n",
       "<p>5 rows × 57 columns</p>\n",
       "</div>"
      ],
      "text/plain": [
       "   act_activity_category  act_char_1  act_char_2  act_char_3  act_char_4  \\\n",
       "0                      4           0           0           0           0   \n",
       "1                      3           0           0           0           0   \n",
       "2                      1           0           0           0           0   \n",
       "3                      1           0           0           0           0   \n",
       "4                      1           0           0           0           0   \n",
       "\n",
       "   act_char_5  act_char_6  act_char_7  act_char_8  act_char_9     ...      \\\n",
       "0           0           0           0           0           0     ...       \n",
       "1           0           0           0           0           0     ...       \n",
       "2           0           0           0           0           0     ...       \n",
       "3           0           0           0           0           0     ...       \n",
       "4           0           0           0           0           0     ...       \n",
       "\n",
       "   people_char_32  people_char_33  people_char_34  people_char_35  \\\n",
       "0               0               0               0               0   \n",
       "1               1               0               0               1   \n",
       "2               0               0               0               0   \n",
       "3               0               0               0               0   \n",
       "4               0               0               0               0   \n",
       "\n",
       "   people_char_36  people_char_37  people_char_38  people_year  people_month  \\\n",
       "0               0               0              84         2023             2   \n",
       "1               0               0              34         2022            10   \n",
       "2               0               0               0         2022            10   \n",
       "3               0               0               0         2022            10   \n",
       "4               0               0               0         2022            10   \n",
       "\n",
       "   people_day  \n",
       "0           2  \n",
       "1          14  \n",
       "2          16  \n",
       "3          16  \n",
       "4          16  \n",
       "\n",
       "[5 rows x 57 columns]"
      ]
     },
     "execution_count": 6,
     "metadata": {},
     "output_type": "execute_result"
    }
   ],
   "source": [
    "data = pd.read_csv('merge_sample.csv')\n",
    "data.head() "
   ]
  },
  {
   "cell_type": "code",
   "execution_count": 7,
   "metadata": {
    "collapsed": true
   },
   "outputs": [],
   "source": [
    "X = data.drop('act_outcome',1)\n",
    "Y = data['act_outcome']"
   ]
  },
  {
   "cell_type": "code",
   "execution_count": 8,
   "metadata": {
    "collapsed": false
   },
   "outputs": [
    {
     "name": "stdout",
     "output_type": "stream",
     "text": [
      "0.886872051335\n"
     ]
    }
   ],
   "source": [
    "#Build the baseline model of LR\n",
    "\n",
    "param_grid_lr = {'C':[10**i for i in range(-3, 3)], \n",
    "                 'penalty':['l1', 'l2']}\n",
    "\n",
    "kfolds = KFold(X.shape[0], n_folds = 6)\n",
    "lr_grid_search = GridSearchCV(LogisticRegression(), param_grid_lr, cv = kfolds, scoring = 'roc_auc') \n",
    "lr_grid_search.fit(X, Y)\n",
    "\n",
    "best_1 = lr_grid_search.best_score_\n",
    "print(best_1)\n",
    "\n",
    "#0.887 "
   ]
  },
  {
   "cell_type": "code",
   "execution_count": 9,
   "metadata": {
    "collapsed": false
   },
   "outputs": [
    {
     "data": {
      "text/plain": [
       "LogisticRegression(C=0.1, class_weight=None, dual=False, fit_intercept=True,\n",
       "          intercept_scaling=1, max_iter=100, multi_class='ovr', n_jobs=1,\n",
       "          penalty='l2', random_state=None, solver='liblinear', tol=0.0001,\n",
       "          verbose=0, warm_start=False)"
      ]
     },
     "execution_count": 9,
     "metadata": {},
     "output_type": "execute_result"
    }
   ],
   "source": [
    "lr_grid_search.best_estimator_"
   ]
  },
  {
   "cell_type": "code",
   "execution_count": 10,
   "metadata": {
    "collapsed": false
   },
   "outputs": [
    {
     "data": {
      "text/plain": [
       "0.89263232117572289"
      ]
     },
     "execution_count": 10,
     "metadata": {},
     "output_type": "execute_result"
    }
   ],
   "source": [
    "#Build up a pineline for feature engineering\n",
    "# using scalarized / stardarized data\n",
    "\n",
    "steps = [('scaler',StandardScaler()),\n",
    "         ('lr',LogisticRegression())]\n",
    "\n",
    "pipeline = Pipeline(steps)\n",
    "\n",
    "parameters_2 = dict(lr__C = [10**i for i in range(-3, 3)],\n",
    "                  lr__penalty = ['l1', 'l2'])\n",
    "\n",
    "lr_grid_search_2 = GridSearchCV(pipeline, param_grid = parameters_2, cv = 6, scoring = 'roc_auc')\n",
    "lr_grid_search_2.fit(X, Y)\n",
    "\n",
    "best_2 = lr_grid_search_2.best_score_\n",
    "best_2\n",
    "\n",
    "# 0.893\n",
    "#0.835 - double sized data"
   ]
  },
  {
   "cell_type": "code",
   "execution_count": 11,
   "metadata": {
    "collapsed": false
   },
   "outputs": [
    {
     "data": {
      "text/plain": [
       "Pipeline(steps=[('scaler', StandardScaler(copy=True, with_mean=True, with_std=True)), ('lr', LogisticRegression(C=0.01, class_weight=None, dual=False, fit_intercept=True,\n",
       "          intercept_scaling=1, max_iter=100, multi_class='ovr', n_jobs=1,\n",
       "          penalty='l1', random_state=None, solver='liblinear', tol=0.0001,\n",
       "          verbose=0, warm_start=False))])"
      ]
     },
     "execution_count": 11,
     "metadata": {},
     "output_type": "execute_result"
    }
   ],
   "source": [
    "lr_grid_search_2.best_estimator_"
   ]
  },
  {
   "cell_type": "code",
   "execution_count": null,
   "metadata": {
    "collapsed": false
   },
   "outputs": [],
   "source": [
    "# Using dummiazed data:\n",
    "dum_data = pd.read_csv('dummiazed_data.csv')\n",
    "X = dum_data.drop(ct_outcome',1)\n",
    "Y = dum_data['act_outcome']\n",
    "\n",
    "param_grid_lr_3 = {'C':[10**i for i in range(-3, 3)], \n",
    "                 'penalty':['l1', 'l2']}\n",
    "\n",
    "kfolds = KFold(X.shape[0], n_folds = 6)\n",
    "lr_grid_search_3 = GridSearchCV(LogisticRegression(), param_grid_lr_3, cv = 6, scoring = 'roc_auc') \n",
    "lr_grid_search_3.fit(X, Y)\n",
    "\n",
    "best_3 = lr_grid_search_3.best_score_\n",
    "print(best_3)\n",
    "\n",
    "# AUC = 0.90934"
   ]
  },
  {
   "cell_type": "code",
   "execution_count": null,
   "metadata": {
    "collapsed": true
   },
   "outputs": [],
   "source": [
    "#Polynomial Feature\n",
    "steps_4 = [('polyfeat', PolynomialFeatures()),\n",
    "         ('scaler', StandardScaler()),\n",
    "         ('lr', LogisticRegression())]\n",
    "\n",
    "pipeline_4 = Pipeline(steps_4)\n",
    "\n",
    " \n",
    "parameters_4 = dict(polyfeat__degree = [1, 2],\n",
    "                    polyfeat__interaction_only = [True, False],\n",
    "                    lr__C = [10**i for i in range(-3, 3)],\n",
    "                    lr__penalty = ['l1', 'l2'])\n",
    "\n",
    "lr_grid_search_4 = GridSearchCV(pipeline_4, param_grid = parameters_4, cv = 6, scoring = 'roc_auc')\n",
    "\n",
    "lr_grid_search_4.fit(X, Y)\n",
    "\n",
    "best_4 = lr_grid_search_4.best_score_\n",
    "print(best_4)"
   ]
  },
  {
   "cell_type": "code",
   "execution_count": null,
   "metadata": {
    "collapsed": true
   },
   "outputs": [],
   "source": [
    "lr_grid_search_4.best_estimator_"
   ]
  },
  {
   "cell_type": "code",
   "execution_count": 15,
   "metadata": {
    "collapsed": false
   },
   "outputs": [
    {
     "data": {
      "text/plain": [
       "GridSearchCV(cv=sklearn.cross_validation.KFold(n=43946, n_folds=6, shuffle=False, random_state=None),\n",
       "       error_score='raise',\n",
       "       estimator=Pipeline(steps=[('featureSelection', SelectFromModel(estimator=LogisticRegression(C=1.0, class_weight=None, dual=False, fit_intercept=True,\n",
       "          intercept_scaling=1, max_iter=100, multi_class='ovr', n_jobs=1,\n",
       "          penalty='l2', random_state=None, solver='liblinear', tol=0.0001,\n",
       "          verbose=0,...ty='l2', random_state=None, solver='liblinear', tol=0.0001,\n",
       "          verbose=0, warm_start=False))]),\n",
       "       fit_params={}, iid=True, n_jobs=1,\n",
       "       param_grid={'lr__C': [0.001, 0.01, 0.1, 1, 10, 100], 'lr__penalty': ['l1', 'l2'], 'featureSelection__threshold': [0.2, 0.3]},\n",
       "       pre_dispatch='2*n_jobs', refit=True, return_train_score=True,\n",
       "       scoring='accuracy', verbose=0)"
      ]
     },
     "execution_count": 15,
     "metadata": {},
     "output_type": "execute_result"
    }
   ],
   "source": [
    "#Feature Selection\n",
    "steps_5 = [('featureSelection',SelectFromModel(LogisticRegression())),\n",
    "           ('lr',LogisticRegression())]\n",
    "pipeline_5 = Pipeline(steps_5)\n",
    "\n",
    "parameters_5 = dict(lr__C = [10**i for i in range(-3, 3)],\n",
    "                    lr__penalty = ['l1', 'l2'],\n",
    "                    featureSelection__threshold = [0.2,0.3])\n",
    "lr_grid_search_5 = GridSearchCV(pipeline_5, param_grid=parameters_5, cv=kfolds,scoring = 'accuracy' )\n",
    "lr_grid_search_5.fit(X,Y)"
   ]
  },
  {
   "cell_type": "code",
   "execution_count": 16,
   "metadata": {
    "collapsed": false
   },
   "outputs": [
    {
     "data": {
      "text/plain": [
       "Pipeline(steps=[('featureSelection', SelectFromModel(estimator=LogisticRegression(C=1.0, class_weight=None, dual=False, fit_intercept=True,\n",
       "          intercept_scaling=1, max_iter=100, multi_class='ovr', n_jobs=1,\n",
       "          penalty='l2', random_state=None, solver='liblinear', tol=0.0001,\n",
       "          verbose=0,...ty='l1', random_state=None, solver='liblinear', tol=0.0001,\n",
       "          verbose=0, warm_start=False))])"
      ]
     },
     "execution_count": 16,
     "metadata": {},
     "output_type": "execute_result"
    }
   ],
   "source": [
    "lr_grid_search_5.best_estimator_"
   ]
  },
  {
   "cell_type": "code",
   "execution_count": 18,
   "metadata": {
    "collapsed": false
   },
   "outputs": [
    {
     "data": {
      "text/plain": [
       "0.80776407409092976"
      ]
     },
     "execution_count": 18,
     "metadata": {},
     "output_type": "execute_result"
    }
   ],
   "source": [
    "lr_grid_search_5.best_score_"
   ]
  },
  {
   "cell_type": "markdown",
   "metadata": {},
   "source": [
    "# Visualization"
   ]
  },
  {
   "cell_type": "code",
   "execution_count": 45,
   "metadata": {
    "collapsed": false
   },
   "outputs": [],
   "source": [
    "# Select the best model to visualize: Model using dummiazed data with C = 0.01, penalty = l1\n",
    "data = pd.read_csv('double sample with dummies.csv')\n",
    "X = data.drop('act_outcome',1)\n",
    "Y = data['act_outcome']\n",
    "X_train, X_test, Y_train, Y_test = train_test_split(X,Y,test_size = 0.25)"
   ]
  },
  {
   "cell_type": "code",
   "execution_count": 30,
   "metadata": {
    "collapsed": false
   },
   "outputs": [],
   "source": [
    "#ROC curve\n",
    "# Best model is the LR with C = 0.01 and 'l1' penalty and using dummies data\n",
    "\n",
    "model = LogisticRegression(C=0.01, penalty='l1')\n",
    "model.fit(X_train, Y_train)\n",
    "\n",
    "Y_test_probability_1 = model.predict_proba(X_test)[:, 1]\n",
    "fpr, tpr, thresholds = metrics.roc_curve(Y_test, Y_test_probability_1)\n",
    "\n",
    "auc = np.mean(cross_val_score(model, X, Y, scoring=\"roc_auc\",cv = 10))\n",
    "accuracy = np.mean(cross_val_score(model, X, Y, scoring=\"accuracy\",cv = 10))"
   ]
  },
  {
   "cell_type": "code",
   "execution_count": 31,
   "metadata": {
    "collapsed": false
   },
   "outputs": [
    {
     "name": "stdout",
     "output_type": "stream",
     "text": [
      "0.85734971407\n"
     ]
    }
   ],
   "source": [
    "print(accuracy) # 0.857"
   ]
  },
  {
   "cell_type": "code",
   "execution_count": 32,
   "metadata": {
    "collapsed": false
   },
   "outputs": [
    {
     "data": {
      "text/plain": [
       "<matplotlib.legend.Legend at 0x11181e898>"
      ]
     },
     "execution_count": 32,
     "metadata": {},
     "output_type": "execute_result"
    },
    {
     "data": {
      "image/png": "[encoded data removed]",
      "text/plain": [
       "<matplotlib.figure.Figure at 0x111127320>"
      ]
     },
     "metadata": {},
     "output_type": "display_data"
    }
   ],
   "source": [
    "plt.plot(fpr, tpr, label=\"AUC = %.4f\" %auc)\n",
    "plt.xlabel(\"False positive rate (fpr)\")\n",
    "plt.ylabel(\"True positive rate (tpr)\")\n",
    "plt.title(\"Logistic Regression ROC Curve\")\n",
    "plt.plot([0,1], [0,1], 'k--', label=\"Random\")\n",
    "plt.legend(loc=2)"
   ]
  },
  {
   "cell_type": "code",
   "execution_count": 37,
   "metadata": {
    "collapsed": false
   },
   "outputs": [
    {
     "data": {
      "image/png": "[encoded data removed]",
      "text/plain": [
       "<matplotlib.figure.Figure at 0x1112e4748>"
      ]
     },
     "metadata": {},
     "output_type": "display_data"
    }
   ],
   "source": [
    "# lift curve\n",
    "Y_test_predicted = model.predict(X_test)\n",
    "\n",
    "# Sort these predictions, probabilities, and the true value in descending order of probability\n",
    "order = np.argsort(Y_test_probability_1)[::-1]\n",
    "Y_test_predicted_sorted = Y_test_predicted[order]\n",
    "Y_test_probability_1_sorted = Y_test_probability_1[order]\n",
    "Y_test_sorted = np.array(Y_test)[order]\n",
    "\n",
    "# Go record-by-record and build the cumulative response curve\n",
    "x_cumulative = []\n",
    "y_cumulative = []\n",
    "total_test_positives = np.sum(Y_test)\n",
    "for i in range(1, len(Y_test_probability_1_sorted)+1):\n",
    "    x_cumulative.append(i)\n",
    "    y_cumulative.append(np.sum(Y_test_sorted[0:i]) / float(total_test_positives))\n",
    "\n",
    "# Rescale\n",
    "x_cumulative = np.array(x_cumulative)/float(np.max(x_cumulative)) * 100\n",
    "y_cumulative = np.array(y_cumulative) * 100\n",
    "\n",
    "x_lift = x_cumulative\n",
    "y_lift = y_cumulative/x_lift\n",
    "\n",
    "plt.plot(x_lift, y_lift, label=\"Classifier\")\n",
    "plt.plot([0,100], [1,1], 'k--', label=\"Random\")\n",
    "plt.xlabel(\"Percentage of test instances (decreasing score)\")\n",
    "plt.ylabel(\"Lift (times)\")\n",
    "plt.title(\"Lift curve\")\n",
    "plt.legend()\n",
    "plt.show()"
   ]
  },
  {
   "cell_type": "code",
   "execution_count": 77,
   "metadata": {
    "collapsed": false
   },
   "outputs": [],
   "source": [
    "#learning curve:\n",
    "data = pd.read_csv('double sample with dummies.csv')\n",
    "train = data.sample(frac = 0.9)\n",
    "test = pd.concat([data,train]).drop_duplicates(keep = False)\n",
    "\n",
    "X_test =test.drop('act_outcome',1)\n",
    "Y_test = test['act_outcome']\n",
    "training_size = np.arange(0.01,1,0.01)\n",
    "aucs = []\n",
    "\n",
    "for s in training_size:\n",
    "    data_part = train.sample(frac = s)\n",
    "    X_part_train =data_part.drop('act_outcome',1)\n",
    "    Y_part_train = data_part['act_outcome']\n",
    "   \n",
    "    #scaler = StandardScaler().fit(X_part_train)\n",
    "    #X_train_scalered = scaler.transform(X_part_train)                \n",
    "    #X_test_scalered = scaler.transform(X_test)\n",
    "    \n",
    "    model = LogisticRegression(C=0.01, penalty='l1')\n",
    "    model.fit(X_part_train, Y_part_train)\n",
    "    \n",
    "    aucs.append(metrics.accuracy_score(Y_test,model.predict(X_test)))"
   ]
  },
  {
   "cell_type": "code",
   "execution_count": 80,
   "metadata": {
    "collapsed": false
   },
   "outputs": [
    {
     "name": "stderr",
     "output_type": "stream",
     "text": [
      "//anaconda/lib/python3.6/site-packages/matplotlib/axes/_axes.py:545: UserWarning: No labelled objects found. Use label='...' kwarg on individual plots.\n",
      "  warnings.warn(\"No labelled objects found. \"\n"
     ]
    },
    {
     "data": {
      "image/png": "[encoded data removed]",
      "text/plain": [
       "<matplotlib.figure.Figure at 0x11251fef0>"
      ]
     },
     "metadata": {},
     "output_type": "display_data"
    }
   ],
   "source": [
    "plt.plot(training_size,aucs)\n",
    "plt.xlabel(\"Percentage of used training instances of the whole training set\")\n",
    "plt.ylabel(\"Accuracy\")\n",
    "plt.title(\"Learning Curve\")\n",
    "plt.legend()\n",
    "plt.show()"
   ]
  }
 ],
 "metadata": {
  "kernelspec": {
   "display_name": "Python 3",
   "language": "python",
   "name": "python3"
  },
  "language_info": {
   "codemirror_mode": {
    "name": "ipython",
    "version": 3
   },
   "file_extension": ".py",
   "mimetype": "text/x-python",
   "name": "python",
   "nbconvert_exporter": "python",
   "pygments_lexer": "ipython3",
   "version": "3.6.0"
  }
 },
 "nbformat": 4,
 "nbformat_minor": 2
}
